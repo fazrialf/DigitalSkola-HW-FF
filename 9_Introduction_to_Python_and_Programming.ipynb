{
  "nbformat": 4,
  "nbformat_minor": 0,
  "metadata": {
    "colab": {
      "name": "9. Introduction to Python and Programming.ipynb",
      "provenance": [],
      "collapsed_sections": []
    },
    "kernelspec": {
      "name": "python3",
      "display_name": "Python 3"
    },
    "language_info": {
      "name": "python"
    }
  },
  "cells": [
    {
      "cell_type": "code",
      "metadata": {
        "id": "D4KsPbq33Vg-"
      },
      "source": [
        ""
      ],
      "execution_count": null,
      "outputs": []
    },
    {
      "cell_type": "markdown",
      "metadata": {
        "id": "6PN6cn0m5Jxh"
      },
      "source": [
        "Nama Saya Fazrial Feizal"
      ]
    },
    {
      "cell_type": "code",
      "metadata": {
        "colab": {
          "base_uri": "https://localhost:8080/"
        },
        "id": "E6mB2Xh15NUv",
        "outputId": "da7518af-352e-4c0d-a2d6-4677262b47f2"
      },
      "source": [
        "!git clone https://github.com/fazrialf/DataScience-Things.git"
      ],
      "execution_count": 1,
      "outputs": [
        {
          "output_type": "stream",
          "name": "stdout",
          "text": [
            "Cloning into 'DataScience-Things'...\n",
            "remote: Enumerating objects: 73, done.\u001b[K\n",
            "remote: Counting objects: 100% (73/73), done.\u001b[K\n",
            "remote: Compressing objects: 100% (65/65), done.\u001b[K\n",
            "remote: Total 73 (delta 22), reused 15 (delta 6), pack-reused 0\u001b[K\n",
            "Unpacking objects: 100% (73/73), done.\n"
          ]
        }
      ]
    },
    {
      "cell_type": "markdown",
      "metadata": {
        "id": "411_EQEx7W9Z"
      },
      "source": [
        "# Hello World"
      ]
    },
    {
      "cell_type": "code",
      "metadata": {
        "colab": {
          "base_uri": "https://localhost:8080/"
        },
        "id": "gs6ctISq7Tkl",
        "outputId": "cd2f7491-ced4-4357-b278-879c2e637b0b"
      },
      "source": [
        "print('Hello World')"
      ],
      "execution_count": 2,
      "outputs": [
        {
          "output_type": "stream",
          "name": "stdout",
          "text": [
            "Hello World\n"
          ]
        }
      ]
    },
    {
      "cell_type": "markdown",
      "metadata": {
        "id": "SVcCkvjp7bFu"
      },
      "source": [
        "# Variabel"
      ]
    },
    {
      "cell_type": "code",
      "metadata": {
        "colab": {
          "base_uri": "https://localhost:8080/"
        },
        "id": "Gz7gVFe57csz",
        "outputId": "3127ca39-39ad-4104-d5f1-454c18ceb104"
      },
      "source": [
        "variable = 1\n",
        "variable"
      ],
      "execution_count": 4,
      "outputs": [
        {
          "output_type": "execute_result",
          "data": {
            "text/plain": [
              "1"
            ]
          },
          "metadata": {},
          "execution_count": 4
        }
      ]
    },
    {
      "cell_type": "code",
      "metadata": {
        "colab": {
          "base_uri": "https://localhost:8080/"
        },
        "id": "iCjWBmDJ-E71",
        "outputId": "a0e02fb3-1daf-406e-cfad-6c0a072cf7d0"
      },
      "source": [
        "a = 3 \n",
        "type(a)"
      ],
      "execution_count": 17,
      "outputs": [
        {
          "output_type": "execute_result",
          "data": {
            "text/plain": [
              "int"
            ]
          },
          "metadata": {},
          "execution_count": 17
        }
      ]
    },
    {
      "cell_type": "code",
      "metadata": {
        "colab": {
          "base_uri": "https://localhost:8080/"
        },
        "id": "oCwh14Mc-A4U",
        "outputId": "de6f0381-0367-4dbf-ad73-a3ac70ca59d9"
      },
      "source": [
        "b = 3.2\n",
        "type(b)"
      ],
      "execution_count": 18,
      "outputs": [
        {
          "output_type": "execute_result",
          "data": {
            "text/plain": [
              "float"
            ]
          },
          "metadata": {},
          "execution_count": 18
        }
      ]
    },
    {
      "cell_type": "code",
      "metadata": {
        "colab": {
          "base_uri": "https://localhost:8080/"
        },
        "id": "T3EcBN0E-Kc1",
        "outputId": "8f7c40ac-c489-48fc-a3ed-923d70e2ff05"
      },
      "source": [
        "a+b"
      ],
      "execution_count": 8,
      "outputs": [
        {
          "output_type": "execute_result",
          "data": {
            "text/plain": [
              "6.2"
            ]
          },
          "metadata": {},
          "execution_count": 8
        }
      ]
    },
    {
      "cell_type": "code",
      "metadata": {
        "colab": {
          "base_uri": "https://localhost:8080/"
        },
        "id": "xtAG8j4h-MnK",
        "outputId": "1d1da47a-b86a-4e75-e360-fcbe6e4c6120"
      },
      "source": [
        "a-b"
      ],
      "execution_count": 9,
      "outputs": [
        {
          "output_type": "execute_result",
          "data": {
            "text/plain": [
              "-0.20000000000000018"
            ]
          },
          "metadata": {},
          "execution_count": 9
        }
      ]
    },
    {
      "cell_type": "code",
      "metadata": {
        "colab": {
          "base_uri": "https://localhost:8080/"
        },
        "id": "35S5kaYm-V3t",
        "outputId": "6e19bc83-0582-4bc1-e297-52736356b04d"
      },
      "source": [
        "c = round(a/b)\n",
        "c"
      ],
      "execution_count": 26,
      "outputs": [
        {
          "output_type": "execute_result",
          "data": {
            "text/plain": [
              "3"
            ]
          },
          "metadata": {},
          "execution_count": 26
        }
      ]
    },
    {
      "cell_type": "code",
      "metadata": {
        "colab": {
          "base_uri": "https://localhost:8080/"
        },
        "id": "9qCBdeHA-XM9",
        "outputId": "83837def-1d99-4892-d9a1-bd845be5ac1c"
      },
      "source": [
        "a = 102\n",
        "b = 3\n",
        "a / b"
      ],
      "execution_count": 11,
      "outputs": [
        {
          "output_type": "execute_result",
          "data": {
            "text/plain": [
              "34.0"
            ]
          },
          "metadata": {},
          "execution_count": 11
        }
      ]
    },
    {
      "cell_type": "code",
      "metadata": {
        "colab": {
          "base_uri": "https://localhost:8080/"
        },
        "id": "mk84Owew-Zr-",
        "outputId": "1972f4a5-114e-43be-8256-4a4e88274772"
      },
      "source": [
        "a ** b"
      ],
      "execution_count": 12,
      "outputs": [
        {
          "output_type": "execute_result",
          "data": {
            "text/plain": [
              "1061208"
            ]
          },
          "metadata": {},
          "execution_count": 12
        }
      ]
    },
    {
      "cell_type": "code",
      "metadata": {
        "colab": {
          "base_uri": "https://localhost:8080/"
        },
        "id": "DMQi9sP2-v7K",
        "outputId": "4ec12174-8719-4ad9-d72d-cbaa4a6f67d0"
      },
      "source": [
        "import random\n",
        "\n",
        "random.randint(0, 25)"
      ],
      "execution_count": 23,
      "outputs": [
        {
          "output_type": "execute_result",
          "data": {
            "text/plain": [
              "17"
            ]
          },
          "metadata": {},
          "execution_count": 23
        }
      ]
    },
    {
      "cell_type": "code",
      "metadata": {
        "colab": {
          "base_uri": "https://localhost:8080/"
        },
        "id": "Gy_m3e07_FrH",
        "outputId": "2af5269e-05de-4dba-bf6d-fa3452f80b8e"
      },
      "source": [
        "import math\n",
        "\n",
        "a = 144\n",
        "math.sqrt(a)"
      ],
      "execution_count": 24,
      "outputs": [
        {
          "output_type": "execute_result",
          "data": {
            "text/plain": [
              "12.0"
            ]
          },
          "metadata": {},
          "execution_count": 24
        }
      ]
    },
    {
      "cell_type": "code",
      "metadata": {
        "colab": {
          "base_uri": "https://localhost:8080/"
        },
        "id": "lrFUvbyQ_S3Q",
        "outputId": "c74acd9b-200c-4bb3-e474-ea56d6c7fabe"
      },
      "source": [
        "a = 8.3\n",
        "math.ceil(a)"
      ],
      "execution_count": 25,
      "outputs": [
        {
          "output_type": "execute_result",
          "data": {
            "text/plain": [
              "9"
            ]
          },
          "metadata": {},
          "execution_count": 25
        }
      ]
    },
    {
      "cell_type": "code",
      "metadata": {
        "colab": {
          "base_uri": "https://localhost:8080/"
        },
        "id": "_tJuyPH9CjTq",
        "outputId": "71e3d60d-0148-40b3-cbac-254de624ad2a"
      },
      "source": [
        "a = 'Hello World!'\n",
        "a = a.lower()\n",
        "print(a)"
      ],
      "execution_count": 40,
      "outputs": [
        {
          "output_type": "stream",
          "name": "stdout",
          "text": [
            "hello world!\n"
          ]
        }
      ]
    },
    {
      "cell_type": "code",
      "metadata": {
        "colab": {
          "base_uri": "https://localhost:8080/"
        },
        "id": "LLe7dLhbCpO7",
        "outputId": "6dac0bd9-6ca6-4843-ccb7-f5e14619e0f7"
      },
      "source": [
        "my_string = 'makanan favorit saya adalah {}'\n",
        "makanan_favorit = 'salad'\n",
        "\n",
        "print(my_string.format(makanan_favorit))"
      ],
      "execution_count": 47,
      "outputs": [
        {
          "output_type": "stream",
          "name": "stdout",
          "text": [
            "makanan favorit saya adalah salad\n"
          ]
        }
      ]
    },
    {
      "cell_type": "code",
      "metadata": {
        "colab": {
          "base_uri": "https://localhost:8080/"
        },
        "id": "vpt9f8D-DC24",
        "outputId": "abeac2cc-bdcd-4180-c8ab-c35f3701d024"
      },
      "source": [
        "my_string = 'saya berlari seminggu {:.2f} km'\n",
        "jarak = 1000\n",
        "\n",
        "print(my_string.format(jarak/52))"
      ],
      "execution_count": 52,
      "outputs": [
        {
          "output_type": "stream",
          "name": "stdout",
          "text": [
            "saya berlari seminggu 19.23 km\n"
          ]
        }
      ]
    },
    {
      "cell_type": "markdown",
      "metadata": {
        "id": "8ayqGHPj8Fzi"
      },
      "source": [
        "# Challenge#1"
      ]
    },
    {
      "cell_type": "code",
      "metadata": {
        "id": "q02WtgoQ7eA8"
      },
      "source": [
        "nama = 'Fazrial Feizal'\n",
        "uk_sepatu = 40\n",
        "tingkat = 4"
      ],
      "execution_count": 5,
      "outputs": []
    },
    {
      "cell_type": "markdown",
      "metadata": {
        "id": "dPckvwb49naJ"
      },
      "source": [
        "# Challenge#2"
      ]
    },
    {
      "cell_type": "markdown",
      "metadata": {
        "id": "9LyGoibw_jn2"
      },
      "source": [
        "Basic"
      ]
    },
    {
      "cell_type": "code",
      "metadata": {
        "id": "vgyRN8LV8PsF"
      },
      "source": [
        "a = 3 ** 4\n",
        "b = 121 % 3"
      ],
      "execution_count": 27,
      "outputs": []
    },
    {
      "cell_type": "code",
      "metadata": {
        "colab": {
          "base_uri": "https://localhost:8080/"
        },
        "id": "MYJoiXfh_oXG",
        "outputId": "61f51907-0074-4d2a-ba7e-dae1feec6a8a"
      },
      "source": [
        "print(a)\n",
        "print(type(a))"
      ],
      "execution_count": 33,
      "outputs": [
        {
          "output_type": "stream",
          "name": "stdout",
          "text": [
            "81\n",
            "<class 'int'>\n"
          ]
        }
      ]
    },
    {
      "cell_type": "code",
      "metadata": {
        "colab": {
          "base_uri": "https://localhost:8080/"
        },
        "id": "4CLKwiBe_o_o",
        "outputId": "b00f45b3-e832-4b76-b121-a09a7ccc8d8b"
      },
      "source": [
        "print(b)\n",
        "print(type(b))"
      ],
      "execution_count": 34,
      "outputs": [
        {
          "output_type": "stream",
          "name": "stdout",
          "text": [
            "1\n",
            "<class 'int'>\n"
          ]
        }
      ]
    },
    {
      "cell_type": "markdown",
      "metadata": {
        "id": "2fwi8asS_w9X"
      },
      "source": [
        "Medium"
      ]
    },
    {
      "cell_type": "code",
      "metadata": {
        "id": "deEF3yy9_peo"
      },
      "source": [
        "c = math.sqrt(1001)"
      ],
      "execution_count": 36,
      "outputs": []
    },
    {
      "cell_type": "code",
      "metadata": {
        "colab": {
          "base_uri": "https://localhost:8080/"
        },
        "id": "XrcZuIjo_0Gn",
        "outputId": "e70da147-1065-4934-ecfd-675a2cedad87"
      },
      "source": [
        "print('Nilai Awal :', c)\n",
        "print('Hasil Pembulatan :', round(c))\n",
        "print('Tipe Data :', type(c))"
      ],
      "execution_count": 38,
      "outputs": [
        {
          "output_type": "stream",
          "name": "stdout",
          "text": [
            "Nilai Awal : 31.63858403911275\n",
            "Hasil Pembulatan : 32\n",
            "Tipe Data : <class 'float'>\n"
          ]
        }
      ]
    },
    {
      "cell_type": "markdown",
      "metadata": {
        "id": "jNJ9X-2pBCy9"
      },
      "source": [
        "# Challenge#3"
      ]
    },
    {
      "cell_type": "code",
      "metadata": {
        "id": "SJdxPkPdBDpb"
      },
      "source": [
        ""
      ],
      "execution_count": null,
      "outputs": []
    }
  ]
}